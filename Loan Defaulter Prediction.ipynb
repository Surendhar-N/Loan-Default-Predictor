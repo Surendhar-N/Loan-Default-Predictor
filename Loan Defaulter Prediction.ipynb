{
 "cells": [
  {
   "cell_type": "code",
   "execution_count": 1,
   "metadata": {},
   "outputs": [],
   "source": [
    "\"\"\"\n",
    "****************************\n",
    "\n",
    "\n",
    "*************************************************\n",
    "Import necessary libraries and packages \n",
    "*****************************************************************************\n",
    "\"\"\"\n",
    "import pandas as pd\n",
    "import numpy as np\n",
    "import matplotlib.pyplot as plt\n",
    "from sklearn.preprocessing import LabelEncoder\n",
    "from sklearn.model_selection import train_test_split\n",
    "from sklearn.linear_model import LogisticRegression\n",
    "from sklearn import metrics\n",
    "from sklearn import preprocessing"
   ]
  },
  {
   "cell_type": "code",
   "execution_count": 2,
   "metadata": {},
   "outputs": [],
   "source": [
    "\"\"\"\n",
    "*****************************************************************************\n",
    "Load Data\n",
    "*****************************************************************************\n",
    "\"\"\"\n",
    "train_data = pd.read_csv('D:\\ML Projects\\Loan Predictor\\\\train.csv')\n",
    "test_data = pd.read_csv('D:\\ML Projects\\Loan Predictor\\\\test.csv')\n"
   ]
  },
  {
   "cell_type": "code",
   "execution_count": 3,
   "metadata": {},
   "outputs": [
    {
     "data": {
      "image/png": "[encoded data removed]",
      "text/plain": [
       "<Figure size 432x288 with 1 Axes>"
      ]
     },
     "metadata": {
      "needs_background": "light"
     },
     "output_type": "display_data"
    },
    {
     "data": {
      "text/plain": [
       "loan_default                           1.000000\n",
       "ltv                                    0.098208\n",
       "disbursed_amount                       0.077675\n",
       "State_ID                               0.048075\n",
       "VoterID_flag                           0.043747\n",
       "NO.OF_INQUIRIES                        0.043678\n",
       "PRI.OVERDUE.ACCTS                      0.040872\n",
       "DELINQUENT.ACCTS.IN.LAST.SIX.MONTHS    0.034462\n",
       "UniqueID                               0.033848\n",
       "branch_id                              0.030193\n",
       "Current_pincode_ID                     0.028419\n",
       "supplier_id                            0.027357\n",
       "Employee_code_ID                       0.020657\n",
       "asset_cost                             0.014261\n",
       "PAN_flag                               0.002046\n",
       "SEC.OVERDUE.ACCTS                     -0.001371\n",
       "SEC.INSTAL.AMT                        -0.001548\n",
       "SEC.CURRENT.BALANCE                   -0.005531\n",
       "Driving_flag                          -0.005821\n",
       "SEC.ACTIVE.ACCTS                      -0.005993\n",
       "SEC.DISBURSED.AMOUNT                  -0.006248\n",
       "SEC.SANCTIONED.AMOUNT                 -0.006354\n",
       "Passport_flag                         -0.007602\n",
       "SEC.NO.OF.ACCTS                       -0.008385\n",
       "PRIMARY.INSTAL.AMT                    -0.010616\n",
       "PRI.DISBURSED.AMOUNT                  -0.011155\n",
       "PRI.SANCTIONED.AMOUNT                 -0.011304\n",
       "manufacturer_id                       -0.025039\n",
       "PRI.CURRENT.BALANCE                   -0.027386\n",
       "NEW.ACCTS.IN.LAST.SIX.MONTHS          -0.029400\n",
       "PRI.NO.OF.ACCTS                       -0.035456\n",
       "PRI.ACTIVE.ACCTS                      -0.041451\n",
       "Aadhar_flag                           -0.041593\n",
       "PERFORM_CNS.SCORE                     -0.057929\n",
       "MobileNo_Avl_Flag                           NaN\n",
       "Name: loan_default, dtype: float64"
      ]
     },
     "execution_count": 3,
     "metadata": {},
     "output_type": "execute_result"
    }
   ],
   "source": [
    "\"\"\"\n",
    "*****************************************************************************\n",
    "Analyze the details of Data\n",
    "*****************************************************************************\n",
    "\"\"\"\n",
    "fig=plt.figure()\n",
    "axi=plt.axes()\n",
    "result = train_data['loan_default']\n",
    "plt.title('Target repartition')\n",
    "axi = axi.set(xlabel='Default proportion', ylabel='Number of people')\n",
    "result.value_counts().plot.bar()\n",
    "plt.show()\n",
    "\n",
    "#Correlation Matrix calculation\n",
    "fac_corr = train_data.corr()\n",
    "fac_corr['loan_default'].sort_values(ascending = False)\n"
   ]
  },
  {
   "cell_type": "code",
   "execution_count": 4,
   "metadata": {},
   "outputs": [],
   "source": [
    "\"\"\"\n",
    "*****************************************************************************\n",
    "Clean the data\n",
    "*****************************************************************************\n",
    "\n",
    "#Remove the outlier records\n",
    "cols=['disbursed_amount', 'asset_cost', 'PRI.NO.OF.ACCTS', 'PRI.ACTIVE.ACCTS','PRI.OVERDUE.ACCTS','PRI.CURRENT.BALANCE', 'PRI.SANCTIONED.AMOUNT','PRI.SANCTIONED.AMOUNT',\n",
    "       'PRI.DISBURSED.AMOUNT', 'SEC.NO.OF.ACCTS', 'SEC.ACTIVE.ACCTS','SEC.CURRENT.BALANCE', 'SEC.SANCTIONED.AMOUNT',\n",
    "       'SEC.DISBURSED.AMOUNT', 'PRIMARY.INSTAL.AMT', 'SEC.INSTAL.AMT',\n",
    "       'NEW.ACCTS.IN.LAST.SIX.MONTHS', 'DELINQUENT.ACCTS.IN.LAST.SIX.MONTHS',\n",
    "       'AVERAGE.ACCT.AGE', 'CREDIT.HISTORY.LENGTH', 'NO.OF_INQUIRIES']\n",
    "#For all the numerical columns, if the record has a outlier value then remove that record\n",
    "updated_td = train_data\n",
    "for col in cols:\n",
    "    if (updated_td[col].dtypes !='object'):\n",
    "        q99=updated_td[col].quantile(0.99)\n",
    "        q01=updated_td[col].quantile(0.01)\n",
    "        for i in updated_td.index:\n",
    "            if (updated_td.loc[i,col]> 5*q99 or updated_td.loc[i,col]< q01/5):\n",
    "                updated_td=updated_td.drop(index=i)\n",
    "\"\"\"\n",
    "updated_td = train_data\n",
    "\n"
   ]
  },
  {
   "cell_type": "code",
   "execution_count": 5,
   "metadata": {},
   "outputs": [
    {
     "name": "stdout",
     "output_type": "stream",
     "text": [
      "                 Percentage\n",
      "Employment.Type    3.285811\n"
     ]
    }
   ],
   "source": [
    "\"\"\"\n",
    "*****************************************************************************\n",
    "Analyse the amount of null values present in Data\n",
    "*****************************************************************************\n",
    "\"\"\"\n",
    "nan_count = updated_td.isnull().sum()\n",
    "\n",
    "nan_percentage = (nan_count / len(updated_td))*100\n",
    "\n",
    "nan_df=pd.concat([nan_percentage], axis=1)\n",
    "nan_df=nan_df.rename(columns={0:'Percentage'})\n",
    "nan_df=nan_df[nan_df.Percentage != 0]\n",
    "nan_df=nan_df.sort_values(by='Percentage',ascending=False)\n",
    "\n",
    "print(nan_df)\n"
   ]
  },
  {
   "cell_type": "code",
   "execution_count": 6,
   "metadata": {},
   "outputs": [],
   "source": [
    "\"\"\"\n",
    "*****************************************************************************\n",
    "Convert Date of Birth to age as part of feature engineering\n",
    "*****************************************************************************\n",
    "\"\"\"\n",
    "now = pd.Timestamp('now')\n",
    "updated_td['Date.of.Birth'] = pd.to_datetime(updated_td['Date.of.Birth'], format='%d-%m-%y')\n",
    "updated_td['Date.of.Birth'] = updated_td['Date.of.Birth'].where(updated_td['Date.of.Birth'] < now, updated_td['Date.of.Birth'] -  np.timedelta64(100, 'Y'))\n",
    "updated_td['Age'] = (now - updated_td['Date.of.Birth']).astype('<m8[Y]')\n",
    "updated_td=updated_td.drop('Date.of.Birth',axis=1)\n",
    "#Drop columns with less correlation factor\n",
    "col_d = ['UniqueID','MobileNo_Avl_Flag','DisbursalDate','AVERAGE.ACCT.AGE','CREDIT.HISTORY.LENGTH','SEC.OVERDUE.ACCTS']\n",
    "updated_td= updated_td.drop(columns=col_d)"
   ]
  },
  {
   "cell_type": "code",
   "execution_count": 7,
   "metadata": {
    "scrolled": true
   },
   "outputs": [
    {
     "data": {
      "text/html": [
       "<div>\n",
       "<style scoped>\n",
       "    .dataframe tbody tr th:only-of-type {\n",
       "        vertical-align: middle;\n",
       "    }\n",
       "\n",
       "    .dataframe tbody tr th {\n",
       "        vertical-align: top;\n",
       "    }\n",
       "\n",
       "    .dataframe thead th {\n",
       "        text-align: right;\n",
       "    }\n",
       "</style>\n",
       "<table border=\"1\" class=\"dataframe\">\n",
       "  <thead>\n",
       "    <tr style=\"text-align: right;\">\n",
       "      <th></th>\n",
       "      <th>disbursed_amount</th>\n",
       "      <th>asset_cost</th>\n",
       "      <th>ltv</th>\n",
       "      <th>branch_id</th>\n",
       "      <th>supplier_id</th>\n",
       "      <th>manufacturer_id</th>\n",
       "      <th>Current_pincode_ID</th>\n",
       "      <th>Employment.Type</th>\n",
       "      <th>State_ID</th>\n",
       "      <th>Employee_code_ID</th>\n",
       "      <th>...</th>\n",
       "      <th>SEC.CURRENT.BALANCE</th>\n",
       "      <th>SEC.SANCTIONED.AMOUNT</th>\n",
       "      <th>SEC.DISBURSED.AMOUNT</th>\n",
       "      <th>PRIMARY.INSTAL.AMT</th>\n",
       "      <th>SEC.INSTAL.AMT</th>\n",
       "      <th>NEW.ACCTS.IN.LAST.SIX.MONTHS</th>\n",
       "      <th>DELINQUENT.ACCTS.IN.LAST.SIX.MONTHS</th>\n",
       "      <th>NO.OF_INQUIRIES</th>\n",
       "      <th>loan_default</th>\n",
       "      <th>Age</th>\n",
       "    </tr>\n",
       "  </thead>\n",
       "  <tbody>\n",
       "    <tr>\n",
       "      <th>0</th>\n",
       "      <td>50578</td>\n",
       "      <td>58400</td>\n",
       "      <td>89.55</td>\n",
       "      <td>67</td>\n",
       "      <td>22807</td>\n",
       "      <td>45</td>\n",
       "      <td>1441</td>\n",
       "      <td>Salaried</td>\n",
       "      <td>6</td>\n",
       "      <td>1998</td>\n",
       "      <td>...</td>\n",
       "      <td>0</td>\n",
       "      <td>0</td>\n",
       "      <td>0</td>\n",
       "      <td>0</td>\n",
       "      <td>0</td>\n",
       "      <td>0</td>\n",
       "      <td>0</td>\n",
       "      <td>0</td>\n",
       "      <td>0</td>\n",
       "      <td>37.0</td>\n",
       "    </tr>\n",
       "    <tr>\n",
       "      <th>1</th>\n",
       "      <td>47145</td>\n",
       "      <td>65550</td>\n",
       "      <td>73.23</td>\n",
       "      <td>67</td>\n",
       "      <td>22807</td>\n",
       "      <td>45</td>\n",
       "      <td>1502</td>\n",
       "      <td>Self employed</td>\n",
       "      <td>6</td>\n",
       "      <td>1998</td>\n",
       "      <td>...</td>\n",
       "      <td>0</td>\n",
       "      <td>0</td>\n",
       "      <td>0</td>\n",
       "      <td>1991</td>\n",
       "      <td>0</td>\n",
       "      <td>0</td>\n",
       "      <td>1</td>\n",
       "      <td>0</td>\n",
       "      <td>1</td>\n",
       "      <td>35.0</td>\n",
       "    </tr>\n",
       "    <tr>\n",
       "      <th>2</th>\n",
       "      <td>53278</td>\n",
       "      <td>61360</td>\n",
       "      <td>89.63</td>\n",
       "      <td>67</td>\n",
       "      <td>22807</td>\n",
       "      <td>45</td>\n",
       "      <td>1497</td>\n",
       "      <td>Self employed</td>\n",
       "      <td>6</td>\n",
       "      <td>1998</td>\n",
       "      <td>...</td>\n",
       "      <td>0</td>\n",
       "      <td>0</td>\n",
       "      <td>0</td>\n",
       "      <td>0</td>\n",
       "      <td>0</td>\n",
       "      <td>0</td>\n",
       "      <td>0</td>\n",
       "      <td>0</td>\n",
       "      <td>0</td>\n",
       "      <td>35.0</td>\n",
       "    </tr>\n",
       "    <tr>\n",
       "      <th>3</th>\n",
       "      <td>57513</td>\n",
       "      <td>66113</td>\n",
       "      <td>88.48</td>\n",
       "      <td>67</td>\n",
       "      <td>22807</td>\n",
       "      <td>45</td>\n",
       "      <td>1501</td>\n",
       "      <td>Self employed</td>\n",
       "      <td>6</td>\n",
       "      <td>1998</td>\n",
       "      <td>...</td>\n",
       "      <td>0</td>\n",
       "      <td>0</td>\n",
       "      <td>0</td>\n",
       "      <td>31</td>\n",
       "      <td>0</td>\n",
       "      <td>0</td>\n",
       "      <td>0</td>\n",
       "      <td>1</td>\n",
       "      <td>1</td>\n",
       "      <td>27.0</td>\n",
       "    </tr>\n",
       "    <tr>\n",
       "      <th>4</th>\n",
       "      <td>52378</td>\n",
       "      <td>60300</td>\n",
       "      <td>88.39</td>\n",
       "      <td>67</td>\n",
       "      <td>22807</td>\n",
       "      <td>45</td>\n",
       "      <td>1495</td>\n",
       "      <td>Self employed</td>\n",
       "      <td>6</td>\n",
       "      <td>1998</td>\n",
       "      <td>...</td>\n",
       "      <td>0</td>\n",
       "      <td>0</td>\n",
       "      <td>0</td>\n",
       "      <td>0</td>\n",
       "      <td>0</td>\n",
       "      <td>0</td>\n",
       "      <td>0</td>\n",
       "      <td>1</td>\n",
       "      <td>1</td>\n",
       "      <td>43.0</td>\n",
       "    </tr>\n",
       "  </tbody>\n",
       "</table>\n",
       "<p>5 rows × 35 columns</p>\n",
       "</div>"
      ],
      "text/plain": [
       "   disbursed_amount  asset_cost    ltv  branch_id  supplier_id  \\\n",
       "0             50578       58400  89.55         67        22807   \n",
       "1             47145       65550  73.23         67        22807   \n",
       "2             53278       61360  89.63         67        22807   \n",
       "3             57513       66113  88.48         67        22807   \n",
       "4             52378       60300  88.39         67        22807   \n",
       "\n",
       "   manufacturer_id  Current_pincode_ID Employment.Type  State_ID  \\\n",
       "0               45                1441        Salaried         6   \n",
       "1               45                1502   Self employed         6   \n",
       "2               45                1497   Self employed         6   \n",
       "3               45                1501   Self employed         6   \n",
       "4               45                1495   Self employed         6   \n",
       "\n",
       "   Employee_code_ID  ...  SEC.CURRENT.BALANCE  SEC.SANCTIONED.AMOUNT  \\\n",
       "0              1998  ...                    0                      0   \n",
       "1              1998  ...                    0                      0   \n",
       "2              1998  ...                    0                      0   \n",
       "3              1998  ...                    0                      0   \n",
       "4              1998  ...                    0                      0   \n",
       "\n",
       "   SEC.DISBURSED.AMOUNT  PRIMARY.INSTAL.AMT  SEC.INSTAL.AMT  \\\n",
       "0                     0                   0               0   \n",
       "1                     0                1991               0   \n",
       "2                     0                   0               0   \n",
       "3                     0                  31               0   \n",
       "4                     0                   0               0   \n",
       "\n",
       "   NEW.ACCTS.IN.LAST.SIX.MONTHS DELINQUENT.ACCTS.IN.LAST.SIX.MONTHS  \\\n",
       "0                             0                                   0   \n",
       "1                             0                                   1   \n",
       "2                             0                                   0   \n",
       "3                             0                                   0   \n",
       "4                             0                                   0   \n",
       "\n",
       "   NO.OF_INQUIRIES  loan_default   Age  \n",
       "0                0             0  37.0  \n",
       "1                0             1  35.0  \n",
       "2                0             0  35.0  \n",
       "3                1             1  27.0  \n",
       "4                1             1  43.0  \n",
       "\n",
       "[5 rows x 35 columns]"
      ]
     },
     "execution_count": 7,
     "metadata": {},
     "output_type": "execute_result"
    }
   ],
   "source": [
    "updated_td.head()"
   ]
  },
  {
   "cell_type": "code",
   "execution_count": 8,
   "metadata": {},
   "outputs": [],
   "source": [
    "\"\"\"\n",
    "*****************************************************************************\n",
    "Label Encoding of categorical data\n",
    "*****************************************************************************\n",
    "\"\"\"\n",
    "le = LabelEncoder()\n",
    "\n",
    "for cols in updated_td:\n",
    "    if updated_td[cols].dtype == 'object':\n",
    "        if len(list(updated_td[cols].unique())) == 2:\n",
    "            le.fit(updated_td[cols])\n",
    "            updated_td[cols] = le.transform(updated_td[cols])\n"
   ]
  },
  {
   "cell_type": "code",
   "execution_count": 9,
   "metadata": {},
   "outputs": [
    {
     "data": {
      "text/plain": [
       "int64      31\n",
       "uint8      17\n",
       "float64     2\n",
       "dtype: int64"
      ]
     },
     "execution_count": 9,
     "metadata": {},
     "output_type": "execute_result"
    }
   ],
   "source": [
    "\"\"\"\n",
    "*****************************************************************************\n",
    "One hot Encoding of categorical data\n",
    "*****************************************************************************\n",
    "\"\"\"\n",
    "#Preprocess data with multiple values before one hot encoding\n",
    "updated_td['PERFORM_CNS.SCORE.DESCRIPTION']= updated_td['PERFORM_CNS.SCORE.DESCRIPTION'].apply(lambda x: 'Not Scored' if 'Not Scored' in str(x) else x )\n",
    "#one hot encoding\n",
    "updated_td = pd.get_dummies(updated_td)\n",
    "updated_td.dtypes.value_counts()\n"
   ]
  },
  {
   "cell_type": "code",
   "execution_count": 10,
   "metadata": {},
   "outputs": [],
   "source": [
    "\"\"\"\n",
    "*****************************************************************************\n",
    "Test Train data split\n",
    "*****************************************************************************\n",
    "\"\"\"\n",
    "X =updated_td.drop('loan_default',axis=1)\n",
    "y = updated_td['loan_default']  \n",
    "\n",
    "X_train, X_test, y_train, y_test = train_test_split(X,y, test_size=0.3, random_state=0)"
   ]
  },
  {
   "cell_type": "code",
   "execution_count": 11,
   "metadata": {},
   "outputs": [
    {
     "name": "stdout",
     "output_type": "stream",
     "text": [
      "50\n"
     ]
    }
   ],
   "source": [
    "print(len(list(updated_td)))"
   ]
  },
  {
   "cell_type": "code",
   "execution_count": 12,
   "metadata": {},
   "outputs": [
    {
     "name": "stderr",
     "output_type": "stream",
     "text": [
      "C:\\Users\\HP\\anaconda3\\lib\\site-packages\\sklearn\\linear_model\\_logistic.py:940: ConvergenceWarning: lbfgs failed to converge (status=1):\n",
      "STOP: TOTAL NO. of ITERATIONS REACHED LIMIT.\n",
      "\n",
      "Increase the number of iterations (max_iter) or scale the data as shown in:\n",
      "    https://scikit-learn.org/stable/modules/preprocessing.html\n",
      "Please also refer to the documentation for alternative solver options:\n",
      "    https://scikit-learn.org/stable/modules/linear_model.html#logistic-regression\n",
      "  extra_warning_msg=_LOGISTIC_SOLVER_CONVERGENCE_MSG)\n"
     ]
    },
    {
     "data": {
      "text/plain": [
       "LogisticRegression(C=1.0, class_weight=None, dual=False, fit_intercept=True,\n",
       "                   intercept_scaling=1, l1_ratio=None, max_iter=100,\n",
       "                   multi_class='auto', n_jobs=None, penalty='l2',\n",
       "                   random_state=None, solver='lbfgs', tol=0.0001, verbose=0,\n",
       "                   warm_start=False)"
      ]
     },
     "execution_count": 12,
     "metadata": {},
     "output_type": "execute_result"
    }
   ],
   "source": [
    "\"\"\"\n",
    "*****************************************************************************\n",
    "Logistic regression model\n",
    "*****************************************************************************\n",
    "\"\"\"\n",
    "logisticRegr = LogisticRegression(C=1.0, class_weight=None,fit_intercept=True,max_iter=100)\n",
    "logisticRegr.fit(X_train, y_train)"
   ]
  },
  {
   "cell_type": "code",
   "execution_count": 13,
   "metadata": {},
   "outputs": [
    {
     "name": "stdout",
     "output_type": "stream",
     "text": [
      "Score  =  78.30357270504811 %\n"
     ]
    }
   ],
   "source": [
    "\"\"\"\n",
    "*****************************************************************************\n",
    "Logistic regression model accuracy\n",
    "*****************************************************************************\n",
    "\"\"\"\n",
    "error = (1 - logisticRegr.score(X_test, y_test))*100\n",
    "print('Score  = ',logisticRegr.score(X_test, y_test)*100, '%')"
   ]
  },
  {
   "cell_type": "code",
   "execution_count": 14,
   "metadata": {},
   "outputs": [
    {
     "name": "stdout",
     "output_type": "stream",
     "text": [
      "Score  =  78.0533832759089 %\n"
     ]
    }
   ],
   "source": [
    "\"\"\"\n",
    "*****************************************************************************\n",
    "Random forest classifier and its accuracy\n",
    "*****************************************************************************\n",
    "\"\"\"\n",
    "from sklearn.ensemble import RandomForestClassifier\n",
    "\n",
    "rf = RandomForestClassifier(n_estimators=300, oob_score=True, random_state=0)\n",
    "rf.fit(X_train,y_train)\n",
    "error = (1 - rf.score(X_test, y_test))*100\n",
    "print('Score  = ',rf.score(X_test, y_test)*100, '%')"
   ]
  },
  {
   "cell_type": "code",
   "execution_count": 15,
   "metadata": {},
   "outputs": [
    {
     "name": "stdout",
     "output_type": "stream",
     "text": [
      "                 Percentage\n",
      "Employment.Type    3.063385\n"
     ]
    }
   ],
   "source": [
    "\"\"\"\n",
    "*****************************************************************************\n",
    "Analyse the amount of null values present in test Data\n",
    "*****************************************************************************\n",
    "\"\"\"\n",
    "nan_count = test_data.isnull().sum()\n",
    "\n",
    "nan_percentage = (nan_count / len(test_data))*100\n",
    "\n",
    "nan_df=pd.concat([nan_percentage], axis=1)\n",
    "nan_df=nan_df.rename(columns={0:'Percentage'})\n",
    "nan_df=nan_df[nan_df.Percentage != 0]\n",
    "nan_df=nan_df.sort_values(by='Percentage',ascending=False)\n",
    "\n",
    "print(nan_df)"
   ]
  },
  {
   "cell_type": "code",
   "execution_count": 16,
   "metadata": {},
   "outputs": [],
   "source": [
    "\"\"\"\n",
    "*****************************************************************************\n",
    "Convert Date of Birth to age as part of feature engineering\n",
    "*****************************************************************************\n",
    "\"\"\"\n",
    "now = pd.Timestamp('now')\n",
    "test_data['Date.of.Birth'] = pd.to_datetime(test_data['Date.of.Birth'], format='%d-%m-%y')\n",
    "test_data['Date.of.Birth'] = test_data['Date.of.Birth'].where(test_data['Date.of.Birth'] < now, test_data['Date.of.Birth'] -  np.timedelta64(100, 'Y'))\n",
    "test_data['Age'] = (now - test_data['Date.of.Birth']).astype('<m8[Y]')\n",
    "test_data=test_data.drop('Date.of.Birth',axis=1)\n",
    "#Drop columns with less correlation factor\n",
    "col_d = ['UniqueID','MobileNo_Avl_Flag','DisbursalDate','AVERAGE.ACCT.AGE','CREDIT.HISTORY.LENGTH','SEC.OVERDUE.ACCTS']\n",
    "test_data= test_data.drop(columns=col_d)"
   ]
  },
  {
   "cell_type": "code",
   "execution_count": 17,
   "metadata": {},
   "outputs": [],
   "source": [
    "\"\"\"\n",
    "*****************************************************************************\n",
    "Label Encoding of categorical test data\n",
    "*****************************************************************************\n",
    "\"\"\"\n",
    "le = LabelEncoder()\n",
    "\n",
    "for cols in test_data:\n",
    "    if test_data[cols].dtype == 'object':\n",
    "        if len(list(test_data[cols].unique())) == 2:\n",
    "            le.fit(test_data[cols])\n",
    "            test_data[cols] = le.transform(test_data[cols])"
   ]
  },
  {
   "cell_type": "code",
   "execution_count": 18,
   "metadata": {},
   "outputs": [
    {
     "data": {
      "text/plain": [
       "int64      30\n",
       "uint8      17\n",
       "float64     2\n",
       "dtype: int64"
      ]
     },
     "execution_count": 18,
     "metadata": {},
     "output_type": "execute_result"
    }
   ],
   "source": [
    "\"\"\"\n",
    "*****************************************************************************\n",
    "One hot Encoding of categorical data\n",
    "*****************************************************************************\n",
    "\"\"\"\n",
    "#Preprocess data with multiple values before one hot encoding\n",
    "test_data['PERFORM_CNS.SCORE.DESCRIPTION']= test_data['PERFORM_CNS.SCORE.DESCRIPTION'].apply(lambda x: 'Not Scored' if 'Not Scored' in str(x) else x )\n",
    "#one hot encoding\n",
    "test_data = pd.get_dummies(test_data)\n",
    "test_data.dtypes.value_counts()\n"
   ]
  },
  {
   "cell_type": "code",
   "execution_count": 19,
   "metadata": {},
   "outputs": [
    {
     "name": "stdout",
     "output_type": "stream",
     "text": [
      "49\n"
     ]
    }
   ],
   "source": [
    "print(len(list(test_data)))\n",
    "log_reg_result = test_data\n",
    "rf_result = test_data"
   ]
  },
  {
   "cell_type": "code",
   "execution_count": 20,
   "metadata": {},
   "outputs": [],
   "source": [
    "\"\"\"\n",
    "*****************************************************************************\n",
    "Loan Prediction for Test Data with logistic regressor\n",
    "*****************************************************************************\n",
    "\"\"\"\n",
    "\n",
    "log_reg_result['loan_default'] = logisticRegr.predict(log_reg_result)\n",
    "log_reg_result.to_csv('result.csv',mode = 'w', index=False)"
   ]
  },
  {
   "cell_type": "code",
   "execution_count": 21,
   "metadata": {},
   "outputs": [],
   "source": [
    "\"\"\"\n",
    "*****************************************************************************\n",
    "Loan Prediction for Test Data with Random forest classifier\n",
    "*****************************************************************************\n",
    "\"\"\"\n",
    "rf_result =rf_result.drop('loan_default',axis=1)\n",
    "\n",
    "\n",
    "rf_result['loan_default'] = rf.predict(rf_result)\n",
    "rf_result.to_csv('result_rf.csv',mode = 'w', index=False)\n"
   ]
  },
  {
   "cell_type": "code",
   "execution_count": null,
   "metadata": {},
   "outputs": [],
   "source": []
  }
 ],
 "metadata": {
  "kernelspec": {
   "display_name": "Python 3",
   "language": "python",
   "name": "python3"
  },
  "language_info": {
   "codemirror_mode": {
    "name": "ipython",
    "version": 3
   },
   "file_extension": ".py",
   "mimetype": "text/x-python",
   "name": "python",
   "nbconvert_exporter": "python",
   "pygments_lexer": "ipython3",
   "version": "3.7.6"
  }
 },
 "nbformat": 4,
 "nbformat_minor": 4
}
