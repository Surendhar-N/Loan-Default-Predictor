{
 "cells": [
  {
   "cell_type": "code",
   "execution_count": 1,
   "metadata": {},
   "outputs": [],
   "source": [
    "\"\"\"\n",
    "*****************************************************************************\n",
    "Import necessary libraries and packages \n",
    "*****************************************************************************\n",
    "\"\"\"\n",
    "import pandas as pd\n",
    "import numpy as np\n",
    "import matplotlib.pyplot as plt\n",
    "from sklearn.preprocessing import LabelEncoder\n",
    "from sklearn.model_selection import train_test_split\n",
    "from sklearn.linear_model import LogisticRegression\n",
    "from sklearn import metrics\n",
    "from sklearn import preprocessing\n",
    "from sklearn.preprocessing import StandardScaler\n"
   ]
  },
  {
   "cell_type": "code",
   "execution_count": 2,
   "metadata": {},
   "outputs": [
    {
     "data": {
      "text/html": [
       "<div>\n",
       "<style scoped>\n",
       "    .dataframe tbody tr th:only-of-type {\n",
       "        vertical-align: middle;\n",
       "    }\n",
       "\n",
       "    .dataframe tbody tr th {\n",
       "        vertical-align: top;\n",
       "    }\n",
       "\n",
       "    .dataframe thead th {\n",
       "        text-align: right;\n",
       "    }\n",
       "</style>\n",
       "<table border=\"1\" class=\"dataframe\">\n",
       "  <thead>\n",
       "    <tr style=\"text-align: right;\">\n",
       "      <th></th>\n",
       "      <th>UniqueID</th>\n",
       "      <th>disbursed_amount</th>\n",
       "      <th>asset_cost</th>\n",
       "      <th>ltv</th>\n",
       "      <th>branch_id</th>\n",
       "      <th>supplier_id</th>\n",
       "      <th>manufacturer_id</th>\n",
       "      <th>Current_pincode_ID</th>\n",
       "      <th>Date.of.Birth</th>\n",
       "      <th>Employment.Type</th>\n",
       "      <th>DisbursalDate</th>\n",
       "      <th>State_ID</th>\n",
       "      <th>Employee_code_ID</th>\n",
       "      <th>MobileNo_Avl_Flag</th>\n",
       "      <th>Aadhar_flag</th>\n",
       "      <th>PAN_flag</th>\n",
       "      <th>VoterID_flag</th>\n",
       "      <th>Driving_flag</th>\n",
       "      <th>Passport_flag</th>\n",
       "      <th>PERFORM_CNS.SCORE</th>\n",
       "      <th>PERFORM_CNS.SCORE.DESCRIPTION</th>\n",
       "      <th>PRI.NO.OF.ACCTS</th>\n",
       "      <th>PRI.ACTIVE.ACCTS</th>\n",
       "      <th>PRI.OVERDUE.ACCTS</th>\n",
       "      <th>PRI.CURRENT.BALANCE</th>\n",
       "      <th>PRI.SANCTIONED.AMOUNT</th>\n",
       "      <th>PRI.DISBURSED.AMOUNT</th>\n",
       "      <th>SEC.NO.OF.ACCTS</th>\n",
       "      <th>SEC.ACTIVE.ACCTS</th>\n",
       "      <th>SEC.OVERDUE.ACCTS</th>\n",
       "      <th>SEC.CURRENT.BALANCE</th>\n",
       "      <th>SEC.SANCTIONED.AMOUNT</th>\n",
       "      <th>SEC.DISBURSED.AMOUNT</th>\n",
       "      <th>PRIMARY.INSTAL.AMT</th>\n",
       "      <th>SEC.INSTAL.AMT</th>\n",
       "      <th>NEW.ACCTS.IN.LAST.SIX.MONTHS</th>\n",
       "      <th>DELINQUENT.ACCTS.IN.LAST.SIX.MONTHS</th>\n",
       "      <th>AVERAGE.ACCT.AGE</th>\n",
       "      <th>CREDIT.HISTORY.LENGTH</th>\n",
       "      <th>NO.OF_INQUIRIES</th>\n",
       "      <th>loan_default</th>\n",
       "    </tr>\n",
       "  </thead>\n",
       "  <tbody>\n",
       "    <tr>\n",
       "      <th>0</th>\n",
       "      <td>420825</td>\n",
       "      <td>50578</td>\n",
       "      <td>58400</td>\n",
       "      <td>89.55</td>\n",
       "      <td>67</td>\n",
       "      <td>22807</td>\n",
       "      <td>45</td>\n",
       "      <td>1441</td>\n",
       "      <td>01-01-84</td>\n",
       "      <td>Salaried</td>\n",
       "      <td>03-08-18</td>\n",
       "      <td>6</td>\n",
       "      <td>1998</td>\n",
       "      <td>1</td>\n",
       "      <td>1</td>\n",
       "      <td>0</td>\n",
       "      <td>0</td>\n",
       "      <td>0</td>\n",
       "      <td>0</td>\n",
       "      <td>0</td>\n",
       "      <td>No Bureau History Available</td>\n",
       "      <td>0</td>\n",
       "      <td>0</td>\n",
       "      <td>0</td>\n",
       "      <td>0</td>\n",
       "      <td>0</td>\n",
       "      <td>0</td>\n",
       "      <td>0</td>\n",
       "      <td>0</td>\n",
       "      <td>0</td>\n",
       "      <td>0</td>\n",
       "      <td>0</td>\n",
       "      <td>0</td>\n",
       "      <td>0</td>\n",
       "      <td>0</td>\n",
       "      <td>0</td>\n",
       "      <td>0</td>\n",
       "      <td>0yrs 0mon</td>\n",
       "      <td>0yrs 0mon</td>\n",
       "      <td>0</td>\n",
       "      <td>0</td>\n",
       "    </tr>\n",
       "    <tr>\n",
       "      <th>1</th>\n",
       "      <td>537409</td>\n",
       "      <td>47145</td>\n",
       "      <td>65550</td>\n",
       "      <td>73.23</td>\n",
       "      <td>67</td>\n",
       "      <td>22807</td>\n",
       "      <td>45</td>\n",
       "      <td>1502</td>\n",
       "      <td>31-07-85</td>\n",
       "      <td>Self employed</td>\n",
       "      <td>26-09-18</td>\n",
       "      <td>6</td>\n",
       "      <td>1998</td>\n",
       "      <td>1</td>\n",
       "      <td>1</td>\n",
       "      <td>0</td>\n",
       "      <td>0</td>\n",
       "      <td>0</td>\n",
       "      <td>0</td>\n",
       "      <td>598</td>\n",
       "      <td>I-Medium Risk</td>\n",
       "      <td>1</td>\n",
       "      <td>1</td>\n",
       "      <td>1</td>\n",
       "      <td>27600</td>\n",
       "      <td>50200</td>\n",
       "      <td>50200</td>\n",
       "      <td>0</td>\n",
       "      <td>0</td>\n",
       "      <td>0</td>\n",
       "      <td>0</td>\n",
       "      <td>0</td>\n",
       "      <td>0</td>\n",
       "      <td>1991</td>\n",
       "      <td>0</td>\n",
       "      <td>0</td>\n",
       "      <td>1</td>\n",
       "      <td>1yrs 11mon</td>\n",
       "      <td>1yrs 11mon</td>\n",
       "      <td>0</td>\n",
       "      <td>1</td>\n",
       "    </tr>\n",
       "    <tr>\n",
       "      <th>2</th>\n",
       "      <td>417566</td>\n",
       "      <td>53278</td>\n",
       "      <td>61360</td>\n",
       "      <td>89.63</td>\n",
       "      <td>67</td>\n",
       "      <td>22807</td>\n",
       "      <td>45</td>\n",
       "      <td>1497</td>\n",
       "      <td>24-08-85</td>\n",
       "      <td>Self employed</td>\n",
       "      <td>01-08-18</td>\n",
       "      <td>6</td>\n",
       "      <td>1998</td>\n",
       "      <td>1</td>\n",
       "      <td>1</td>\n",
       "      <td>0</td>\n",
       "      <td>0</td>\n",
       "      <td>0</td>\n",
       "      <td>0</td>\n",
       "      <td>0</td>\n",
       "      <td>No Bureau History Available</td>\n",
       "      <td>0</td>\n",
       "      <td>0</td>\n",
       "      <td>0</td>\n",
       "      <td>0</td>\n",
       "      <td>0</td>\n",
       "      <td>0</td>\n",
       "      <td>0</td>\n",
       "      <td>0</td>\n",
       "      <td>0</td>\n",
       "      <td>0</td>\n",
       "      <td>0</td>\n",
       "      <td>0</td>\n",
       "      <td>0</td>\n",
       "      <td>0</td>\n",
       "      <td>0</td>\n",
       "      <td>0</td>\n",
       "      <td>0yrs 0mon</td>\n",
       "      <td>0yrs 0mon</td>\n",
       "      <td>0</td>\n",
       "      <td>0</td>\n",
       "    </tr>\n",
       "    <tr>\n",
       "      <th>3</th>\n",
       "      <td>624493</td>\n",
       "      <td>57513</td>\n",
       "      <td>66113</td>\n",
       "      <td>88.48</td>\n",
       "      <td>67</td>\n",
       "      <td>22807</td>\n",
       "      <td>45</td>\n",
       "      <td>1501</td>\n",
       "      <td>30-12-93</td>\n",
       "      <td>Self employed</td>\n",
       "      <td>26-10-18</td>\n",
       "      <td>6</td>\n",
       "      <td>1998</td>\n",
       "      <td>1</td>\n",
       "      <td>1</td>\n",
       "      <td>0</td>\n",
       "      <td>0</td>\n",
       "      <td>0</td>\n",
       "      <td>0</td>\n",
       "      <td>305</td>\n",
       "      <td>L-Very High Risk</td>\n",
       "      <td>3</td>\n",
       "      <td>0</td>\n",
       "      <td>0</td>\n",
       "      <td>0</td>\n",
       "      <td>0</td>\n",
       "      <td>0</td>\n",
       "      <td>0</td>\n",
       "      <td>0</td>\n",
       "      <td>0</td>\n",
       "      <td>0</td>\n",
       "      <td>0</td>\n",
       "      <td>0</td>\n",
       "      <td>31</td>\n",
       "      <td>0</td>\n",
       "      <td>0</td>\n",
       "      <td>0</td>\n",
       "      <td>0yrs 8mon</td>\n",
       "      <td>1yrs 3mon</td>\n",
       "      <td>1</td>\n",
       "      <td>1</td>\n",
       "    </tr>\n",
       "    <tr>\n",
       "      <th>4</th>\n",
       "      <td>539055</td>\n",
       "      <td>52378</td>\n",
       "      <td>60300</td>\n",
       "      <td>88.39</td>\n",
       "      <td>67</td>\n",
       "      <td>22807</td>\n",
       "      <td>45</td>\n",
       "      <td>1495</td>\n",
       "      <td>09-12-77</td>\n",
       "      <td>Self employed</td>\n",
       "      <td>26-09-18</td>\n",
       "      <td>6</td>\n",
       "      <td>1998</td>\n",
       "      <td>1</td>\n",
       "      <td>1</td>\n",
       "      <td>0</td>\n",
       "      <td>0</td>\n",
       "      <td>0</td>\n",
       "      <td>0</td>\n",
       "      <td>0</td>\n",
       "      <td>No Bureau History Available</td>\n",
       "      <td>0</td>\n",
       "      <td>0</td>\n",
       "      <td>0</td>\n",
       "      <td>0</td>\n",
       "      <td>0</td>\n",
       "      <td>0</td>\n",
       "      <td>0</td>\n",
       "      <td>0</td>\n",
       "      <td>0</td>\n",
       "      <td>0</td>\n",
       "      <td>0</td>\n",
       "      <td>0</td>\n",
       "      <td>0</td>\n",
       "      <td>0</td>\n",
       "      <td>0</td>\n",
       "      <td>0</td>\n",
       "      <td>0yrs 0mon</td>\n",
       "      <td>0yrs 0mon</td>\n",
       "      <td>1</td>\n",
       "      <td>1</td>\n",
       "    </tr>\n",
       "  </tbody>\n",
       "</table>\n",
       "</div>"
      ],
      "text/plain": [
       "   UniqueID  disbursed_amount  asset_cost    ltv  branch_id  supplier_id  \\\n",
       "0    420825             50578       58400  89.55         67        22807   \n",
       "1    537409             47145       65550  73.23         67        22807   \n",
       "2    417566             53278       61360  89.63         67        22807   \n",
       "3    624493             57513       66113  88.48         67        22807   \n",
       "4    539055             52378       60300  88.39         67        22807   \n",
       "\n",
       "   manufacturer_id  Current_pincode_ID Date.of.Birth Employment.Type  \\\n",
       "0               45                1441      01-01-84        Salaried   \n",
       "1               45                1502      31-07-85   Self employed   \n",
       "2               45                1497      24-08-85   Self employed   \n",
       "3               45                1501      30-12-93   Self employed   \n",
       "4               45                1495      09-12-77   Self employed   \n",
       "\n",
       "  DisbursalDate  State_ID  Employee_code_ID  MobileNo_Avl_Flag  Aadhar_flag  \\\n",
       "0      03-08-18         6              1998                  1            1   \n",
       "1      26-09-18         6              1998                  1            1   \n",
       "2      01-08-18         6              1998                  1            1   \n",
       "3      26-10-18         6              1998                  1            1   \n",
       "4      26-09-18         6              1998                  1            1   \n",
       "\n",
       "   PAN_flag  VoterID_flag  Driving_flag  Passport_flag  PERFORM_CNS.SCORE  \\\n",
       "0         0             0             0              0                  0   \n",
       "1         0             0             0              0                598   \n",
       "2         0             0             0              0                  0   \n",
       "3         0             0             0              0                305   \n",
       "4         0             0             0              0                  0   \n",
       "\n",
       "  PERFORM_CNS.SCORE.DESCRIPTION  PRI.NO.OF.ACCTS  PRI.ACTIVE.ACCTS  \\\n",
       "0   No Bureau History Available                0                 0   \n",
       "1                 I-Medium Risk                1                 1   \n",
       "2   No Bureau History Available                0                 0   \n",
       "3              L-Very High Risk                3                 0   \n",
       "4   No Bureau History Available                0                 0   \n",
       "\n",
       "   PRI.OVERDUE.ACCTS  PRI.CURRENT.BALANCE  PRI.SANCTIONED.AMOUNT  \\\n",
       "0                  0                    0                      0   \n",
       "1                  1                27600                  50200   \n",
       "2                  0                    0                      0   \n",
       "3                  0                    0                      0   \n",
       "4                  0                    0                      0   \n",
       "\n",
       "   PRI.DISBURSED.AMOUNT  SEC.NO.OF.ACCTS  SEC.ACTIVE.ACCTS  SEC.OVERDUE.ACCTS  \\\n",
       "0                     0                0                 0                  0   \n",
       "1                 50200                0                 0                  0   \n",
       "2                     0                0                 0                  0   \n",
       "3                     0                0                 0                  0   \n",
       "4                     0                0                 0                  0   \n",
       "\n",
       "   SEC.CURRENT.BALANCE  SEC.SANCTIONED.AMOUNT  SEC.DISBURSED.AMOUNT  \\\n",
       "0                    0                      0                     0   \n",
       "1                    0                      0                     0   \n",
       "2                    0                      0                     0   \n",
       "3                    0                      0                     0   \n",
       "4                    0                      0                     0   \n",
       "\n",
       "   PRIMARY.INSTAL.AMT  SEC.INSTAL.AMT  NEW.ACCTS.IN.LAST.SIX.MONTHS  \\\n",
       "0                   0               0                             0   \n",
       "1                1991               0                             0   \n",
       "2                   0               0                             0   \n",
       "3                  31               0                             0   \n",
       "4                   0               0                             0   \n",
       "\n",
       "   DELINQUENT.ACCTS.IN.LAST.SIX.MONTHS AVERAGE.ACCT.AGE CREDIT.HISTORY.LENGTH  \\\n",
       "0                                    0        0yrs 0mon             0yrs 0mon   \n",
       "1                                    1       1yrs 11mon            1yrs 11mon   \n",
       "2                                    0        0yrs 0mon             0yrs 0mon   \n",
       "3                                    0        0yrs 8mon             1yrs 3mon   \n",
       "4                                    0        0yrs 0mon             0yrs 0mon   \n",
       "\n",
       "   NO.OF_INQUIRIES  loan_default  \n",
       "0                0             0  \n",
       "1                0             1  \n",
       "2                0             0  \n",
       "3                1             1  \n",
       "4                1             1  "
      ]
     },
     "execution_count": 2,
     "metadata": {},
     "output_type": "execute_result"
    }
   ],
   "source": [
    "\"\"\"\n",
    "*****************************************************************************\n",
    "Load Data\n",
    "*****************************************************************************\n",
    "\"\"\"\n",
    "train_data = pd.read_csv('D:\\ML Projects\\Loan Predictor\\\\train.csv')\n",
    "test_data = pd.read_csv('D:\\ML Projects\\Loan Predictor\\\\test.csv')\n",
    "pd.set_option('display.max_columns', None)\n",
    "train_data.head()\n"
   ]
  },
  {
   "cell_type": "code",
   "execution_count": 3,
   "metadata": {},
   "outputs": [
    {
     "name": "stdout",
     "output_type": "stream",
     "text": [
      "<class 'pandas.core.frame.DataFrame'>\n",
      "RangeIndex: 233154 entries, 0 to 233153\n",
      "Data columns (total 41 columns):\n",
      " #   Column                               Non-Null Count   Dtype  \n",
      "---  ------                               --------------   -----  \n",
      " 0   UniqueID                             233154 non-null  int64  \n",
      " 1   disbursed_amount                     233154 non-null  int64  \n",
      " 2   asset_cost                           233154 non-null  int64  \n",
      " 3   ltv                                  233154 non-null  float64\n",
      " 4   branch_id                            233154 non-null  int64  \n",
      " 5   supplier_id                          233154 non-null  int64  \n",
      " 6   manufacturer_id                      233154 non-null  int64  \n",
      " 7   Current_pincode_ID                   233154 non-null  int64  \n",
      " 8   Date.of.Birth                        233154 non-null  object \n",
      " 9   Employment.Type                      225493 non-null  object \n",
      " 10  DisbursalDate                        233154 non-null  object \n",
      " 11  State_ID                             233154 non-null  int64  \n",
      " 12  Employee_code_ID                     233154 non-null  int64  \n",
      " 13  MobileNo_Avl_Flag                    233154 non-null  int64  \n",
      " 14  Aadhar_flag                          233154 non-null  int64  \n",
      " 15  PAN_flag                             233154 non-null  int64  \n",
      " 16  VoterID_flag                         233154 non-null  int64  \n",
      " 17  Driving_flag                         233154 non-null  int64  \n",
      " 18  Passport_flag                        233154 non-null  int64  \n",
      " 19  PERFORM_CNS.SCORE                    233154 non-null  int64  \n",
      " 20  PERFORM_CNS.SCORE.DESCRIPTION        233154 non-null  object \n",
      " 21  PRI.NO.OF.ACCTS                      233154 non-null  int64  \n",
      " 22  PRI.ACTIVE.ACCTS                     233154 non-null  int64  \n",
      " 23  PRI.OVERDUE.ACCTS                    233154 non-null  int64  \n",
      " 24  PRI.CURRENT.BALANCE                  233154 non-null  int64  \n",
      " 25  PRI.SANCTIONED.AMOUNT                233154 non-null  int64  \n",
      " 26  PRI.DISBURSED.AMOUNT                 233154 non-null  int64  \n",
      " 27  SEC.NO.OF.ACCTS                      233154 non-null  int64  \n",
      " 28  SEC.ACTIVE.ACCTS                     233154 non-null  int64  \n",
      " 29  SEC.OVERDUE.ACCTS                    233154 non-null  int64  \n",
      " 30  SEC.CURRENT.BALANCE                  233154 non-null  int64  \n",
      " 31  SEC.SANCTIONED.AMOUNT                233154 non-null  int64  \n",
      " 32  SEC.DISBURSED.AMOUNT                 233154 non-null  int64  \n",
      " 33  PRIMARY.INSTAL.AMT                   233154 non-null  int64  \n",
      " 34  SEC.INSTAL.AMT                       233154 non-null  int64  \n",
      " 35  NEW.ACCTS.IN.LAST.SIX.MONTHS         233154 non-null  int64  \n",
      " 36  DELINQUENT.ACCTS.IN.LAST.SIX.MONTHS  233154 non-null  int64  \n",
      " 37  AVERAGE.ACCT.AGE                     233154 non-null  object \n",
      " 38  CREDIT.HISTORY.LENGTH                233154 non-null  object \n",
      " 39  NO.OF_INQUIRIES                      233154 non-null  int64  \n",
      " 40  loan_default                         233154 non-null  int64  \n",
      "dtypes: float64(1), int64(34), object(6)\n",
      "memory usage: 72.9+ MB\n"
     ]
    }
   ],
   "source": [
    "train_data.info()"
   ]
  },
  {
   "cell_type": "code",
   "execution_count": 4,
   "metadata": {},
   "outputs": [
    {
     "data": {
      "image/png": "[encoded data removed]",
      "text/plain": [
       "<Figure size 432x288 with 1 Axes>"
      ]
     },
     "metadata": {
      "needs_background": "light"
     },
     "output_type": "display_data"
    },
    {
     "name": "stdout",
     "output_type": "stream",
     "text": [
      "No of row in both categories for target attribute: \n",
      " 0    182543\n",
      "1     50611\n",
      "Name: loan_default, dtype: int64\n"
     ]
    }
   ],
   "source": [
    "\"\"\"\n",
    "*****************************************************************************\n",
    "Analyze the details of Data\n",
    "*****************************************************************************\n",
    "\"\"\"\n",
    "fig=plt.figure()\n",
    "axi=plt.axes()\n",
    "result = train_data['loan_default']\n",
    "plt.title('Target repartition')\n",
    "axi = axi.set(xlabel='Default proportion', ylabel='Number of people')\n",
    "result.value_counts().plot.bar()\n",
    "plt.show()\n",
    "\n",
    "print(\"No of row in both categories for target attribute: \\n {}\".format(train_data[\"loan_default\"].value_counts()))\n",
    "\n"
   ]
  },
  {
   "cell_type": "markdown",
   "metadata": {},
   "source": [
    "### Visualizing the Distrubution of Target column\n",
    "* On Visualising the dataseyt we can observe that the both values are in ratio 1:4\n",
    "* so we need to over sample the minority category after preprocessing as there is a imbalance in dataset"
   ]
  },
  {
   "cell_type": "markdown",
   "metadata": {},
   "source": [
    "### Analysing the NaN values in the data set"
   ]
  },
  {
   "cell_type": "code",
   "execution_count": 5,
   "metadata": {},
   "outputs": [
    {
     "name": "stdout",
     "output_type": "stream",
     "text": [
      "                 Percentage\n",
      "Employment.Type    3.285811\n"
     ]
    }
   ],
   "source": [
    "\"\"\"\n",
    "*****************************************************************************\n",
    "Analyse the amount of null values present in Data\n",
    "*****************************************************************************\n",
    "\"\"\"\n",
    "nan_count = train_data.isnull().sum()\n",
    "\n",
    "nan_percentage = (nan_count / len(train_data))*100\n",
    "\n",
    "nan_df=pd.concat([nan_percentage], axis=1)\n",
    "nan_df=nan_df.rename(columns={0:'Percentage'})\n",
    "nan_df=nan_df[nan_df.Percentage != 0]\n",
    "nan_df=nan_df.sort_values(by='Percentage',ascending=False)\n",
    "\n",
    "print(nan_df)"
   ]
  },
  {
   "cell_type": "markdown",
   "metadata": {},
   "source": [
    "## Data Preprocessing"
   ]
  },
  {
   "cell_type": "markdown",
   "metadata": {},
   "source": [
    "### Dropping Columns that might or might not be available during predction\n",
    "Some Columns might not be available for some cases, so dropping them to build model based on data that can be relied"
   ]
  },
  {
   "cell_type": "code",
   "execution_count": 6,
   "metadata": {},
   "outputs": [],
   "source": [
    "# Dropping Columns\n",
    "def drop_col(data_set):\n",
    "    Cols = ['disbursed_amount','asset_cost','DisbursalDate','PRI.SANCTIONED.AMOUNT','PRI.DISBURSED.AMOUNT','SEC.SANCTIONED.AMOUNT','SEC.DISBURSED.AMOUNT','PRIMARY.INSTAL.AMT','SEC.INSTAL.AMT']\n",
    "    data_set = data_set.drop(Cols, axis = 1)\n",
    "    return data_set"
   ]
  },
  {
   "cell_type": "markdown",
   "metadata": {},
   "source": [
    "### Replacing the NaN columns value with better replacement"
   ]
  },
  {
   "cell_type": "code",
   "execution_count": 7,
   "metadata": {},
   "outputs": [],
   "source": [
    "def replace_nan(upd_data,col_name,rep_val):\n",
    "    upd_data[col_name] = upd_data[col_name].replace(np.nan,rep_val)"
   ]
  },
  {
   "cell_type": "markdown",
   "metadata": {},
   "source": [
    "### Feature Engineering"
   ]
  },
  {
   "cell_type": "code",
   "execution_count": 8,
   "metadata": {},
   "outputs": [],
   "source": [
    "\"\"\"\n",
    "*****************************************************************************\n",
    "Convert Data as part of feature engineering\n",
    "*****************************************************************************\n",
    "\"\"\"\n",
    "def field_conversion(data_set):\n",
    "    now = pd.Timestamp('now')\n",
    "    data_set['Date.of.Birth'] = pd.to_datetime(data_set['Date.of.Birth'], format='%d-%m-%y')\n",
    "    data_set['Date.of.Birth'] = data_set['Date.of.Birth'].where(data_set['Date.of.Birth'] < now, data_set['Date.of.Birth'] -  np.timedelta64(100, 'Y'))\n",
    "    data_set['Age'] = (now - data_set['Date.of.Birth']).astype('<m8[Y]')\n",
    "    data_set=data_set.drop('Date.of.Birth',axis=1)\n",
    "    return data_set\n",
    "def period_con(data_set,cols):\n",
    "    for ind in data_set.index:\n",
    "        for c in cols:\n",
    "            fin = 0\n",
    "            val = data_set[c][ind]\n",
    "            val = str(val)\n",
    "            val_lst = val.split()\n",
    "            yrs = val_lst[0]\n",
    "            yrs = yrs.split('yrs')\n",
    "            fin = int(yrs[0])*12\n",
    "            mon = val_lst[-1]\n",
    "            mon = mon.split('mon')\n",
    "            fin = int(mon[0])+fin\n",
    "            data_set[c][ind] = fin"
   ]
  },
  {
   "cell_type": "markdown",
   "metadata": {},
   "source": [
    "### Preprocess function execution"
   ]
  },
  {
   "cell_type": "code",
   "execution_count": 9,
   "metadata": {
    "scrolled": true
   },
   "outputs": [],
   "source": [
    "def preprocess(data):\n",
    "    #Drop Column\n",
    "    upd_data = drop_col(data)\n",
    "    #Replace Column\n",
    "    replace_nan(upd_data,'Employment.Type','Unemployed')\n",
    "    #Field Conversion \n",
    "    upd_data = field_conversion(upd_data)\n",
    "    #Period Conversion\n",
    "    cols = ['AVERAGE.ACCT.AGE','CREDIT.HISTORY.LENGTH']\n",
    "    period_con(upd_data,cols)\n",
    "    #Data type conversion\n",
    "    upd_data = upd_data.astype({'AVERAGE.ACCT.AGE': int, 'CREDIT.HISTORY.LENGTH': int})\n",
    "    return upd_data\n",
    "\n"
   ]
  },
  {
   "cell_type": "code",
   "execution_count": 10,
   "metadata": {},
   "outputs": [
    {
     "name": "stderr",
     "output_type": "stream",
     "text": [
      "C:\\Users\\HP\\anaconda3\\lib\\site-packages\\ipykernel_launcher.py:26: SettingWithCopyWarning: \n",
      "A value is trying to be set on a copy of a slice from a DataFrame\n",
      "\n",
      "See the caveats in the documentation: https://pandas.pydata.org/pandas-docs/stable/user_guide/indexing.html#returning-a-view-versus-a-copy\n"
     ]
    }
   ],
   "source": [
    "updated_td = preprocess(train_data)"
   ]
  },
  {
   "cell_type": "code",
   "execution_count": 11,
   "metadata": {},
   "outputs": [],
   "source": [
    "from imblearn.over_sampling import RandomOverSampler\n",
    "#Creating a list of all independ columns\n",
    "independ_columns = [i for i in updated_td.columns if i != \"loan_default\"]\n",
    "seed =3\n",
    "\n",
    "#Seperating the independent and target attributes \n",
    "x = updated_td[independ_columns].copy()\n",
    "y = updated_td[\"loan_default\"].copy()\n",
    "#Creating an instance of RandomOverSampler which will over sample the minority category equal to majority category \n",
    "over_sampler = RandomOverSampler(sampling_strategy = 'minority', random_state = seed)\n",
    "x_sampled, y_sampled = over_sampler.fit_resample(x, y)\n",
    "\n",
    "#Creating DataFrame from the over sampled data\n",
    "data_sampled = pd.DataFrame(x_sampled, columns = independ_columns)\n",
    "data_sampled[\"loan_default\"] = y_sampled\n",
    "\n",
    "updated_td = data_sampled"
   ]
  },
  {
   "cell_type": "code",
   "execution_count": 26,
   "metadata": {},
   "outputs": [
    {
     "data": {
      "image/png": "[encoded data removed]",
      "text/plain": [
       "<Figure size 432x288 with 1 Axes>"
      ]
     },
     "metadata": {
      "needs_background": "light"
     },
     "output_type": "display_data"
    },
    {
     "name": "stdout",
     "output_type": "stream",
     "text": [
      "No of row in both categories for target attribute: \n",
      " 0    182543\n",
      "1     50611\n",
      "Name: loan_default, dtype: int64\n"
     ]
    }
   ],
   "source": [
    "\"\"\"\n",
    "*****************************************************************************\n",
    "Analyze the details of Data\n",
    "*****************************************************************************\n",
    "\"\"\"\n",
    "fig=plt.figure()\n",
    "axi=plt.axes()\n",
    "result = updated_td['loan_default']\n",
    "plt.title('Target repartition')\n",
    "axi = axi.set(xlabel='Default proportion', ylabel='Number of people')\n",
    "result.value_counts().plot.bar()\n",
    "plt.show()\n",
    "\n",
    "print(\"No of row in both categories for target attribute: \\n {}\".format(train_data[\"loan_default\"].value_counts()))\n",
    "\n"
   ]
  },
  {
   "cell_type": "code",
   "execution_count": 12,
   "metadata": {},
   "outputs": [
    {
     "data": {
      "text/plain": [
       "loan_default                           1.000000\n",
       "ltv                                    0.123117\n",
       "State_ID                               0.057359\n",
       "VoterID_flag                           0.051023\n",
       "NO.OF_INQUIRIES                        0.048582\n",
       "PRI.OVERDUE.ACCTS                      0.047271\n",
       "UniqueID                               0.040770\n",
       "DELINQUENT.ACCTS.IN.LAST.SIX.MONTHS    0.038329\n",
       "branch_id                              0.036390\n",
       "supplier_id                            0.034313\n",
       "Current_pincode_ID                     0.033596\n",
       "Employee_code_ID                       0.023414\n",
       "PAN_flag                               0.003232\n",
       "SEC.OVERDUE.ACCTS                     -0.002864\n",
       "SEC.CURRENT.BALANCE                   -0.007369\n",
       "Driving_flag                          -0.007370\n",
       "SEC.ACTIVE.ACCTS                      -0.007992\n",
       "Passport_flag                         -0.009852\n",
       "SEC.NO.OF.ACCTS                       -0.011067\n",
       "AVERAGE.ACCT.AGE                      -0.028925\n",
       "manufacturer_id                       -0.029588\n",
       "PRI.CURRENT.BALANCE                   -0.037297\n",
       "NEW.ACCTS.IN.LAST.SIX.MONTHS          -0.037632\n",
       "Age                                   -0.041891\n",
       "PRI.NO.OF.ACCTS                       -0.043695\n",
       "Aadhar_flag                           -0.048296\n",
       "CREDIT.HISTORY.LENGTH                 -0.051862\n",
       "PRI.ACTIVE.ACCTS                      -0.054101\n",
       "PERFORM_CNS.SCORE                     -0.070547\n",
       "MobileNo_Avl_Flag                           NaN\n",
       "Name: loan_default, dtype: float64"
      ]
     },
     "execution_count": 12,
     "metadata": {},
     "output_type": "execute_result"
    }
   ],
   "source": [
    "#Correlation Matrix calculation\n",
    "fac_corr = updated_td.corr()\n",
    "fac_corr['loan_default'].sort_values(ascending = False)"
   ]
  },
  {
   "cell_type": "code",
   "execution_count": 13,
   "metadata": {},
   "outputs": [],
   "source": [
    "#updated_td.info()\n",
    "#upd_data = updated_td\n",
    "#updated_td = upd_data"
   ]
  },
  {
   "cell_type": "markdown",
   "metadata": {},
   "source": [
    "### Encoding columns with binary objects"
   ]
  },
  {
   "cell_type": "code",
   "execution_count": 14,
   "metadata": {},
   "outputs": [],
   "source": [
    "\"\"\"\n",
    "*****************************************************************************\n",
    "Label Encoding of categorical data\n",
    "*****************************************************************************\n",
    "\"\"\"\n",
    "def labelenc(data_set):\n",
    "    le = LabelEncoder()\n",
    "    for cols in data_set:\n",
    "        if data_set[cols].dtype == 'object':\n",
    "            if len(list(data_set[cols].unique())) == 2:\n",
    "                le.fit(data_set[cols])\n",
    "                data_set[cols] = le.transform(data_set[cols])\n"
   ]
  },
  {
   "cell_type": "markdown",
   "metadata": {},
   "source": [
    "### Encoding Columns with multiple objects"
   ]
  },
  {
   "cell_type": "code",
   "execution_count": 15,
   "metadata": {},
   "outputs": [],
   "source": [
    "\"\"\"\n",
    "*****************************************************************************\n",
    "One hot Encoding of categorical data\n",
    "*****************************************************************************\n",
    "\"\"\"\n",
    "def onehotenc(data_set):\n",
    "    #Preprocess data with multiple values before one hot encoding\n",
    "    data_set['PERFORM_CNS.SCORE.DESCRIPTION']= data_set['PERFORM_CNS.SCORE.DESCRIPTION'].apply(lambda x: 'Not Scored' if 'Not Scored' in str(x) else x )\n",
    "    #one hot encoding\n",
    "    data_set = pd.get_dummies(data_set)\n",
    "    data_set.dtypes.value_counts()\n",
    "    return data_set\n"
   ]
  },
  {
   "cell_type": "markdown",
   "metadata": {},
   "source": [
    "### Encoding categorical columsn in data set"
   ]
  },
  {
   "cell_type": "code",
   "execution_count": 16,
   "metadata": {},
   "outputs": [],
   "source": [
    "def encoding_data(data_set):\n",
    "    labelenc(data_set)\n",
    "    data_set = onehotenc(data_set)\n",
    "    return data_set\n"
   ]
  },
  {
   "cell_type": "markdown",
   "metadata": {},
   "source": [
    "### Scaling the columns with huge variations in data"
   ]
  },
  {
   "cell_type": "code",
   "execution_count": 17,
   "metadata": {},
   "outputs": [],
   "source": [
    "def srd_scaler(data_set,cols):\n",
    "    data_set[cols] = StandardScaler().fit_transform(data_set[cols])\n",
    "    return data_set"
   ]
  },
  {
   "cell_type": "code",
   "execution_count": 18,
   "metadata": {},
   "outputs": [],
   "source": [
    "def enc_scal(data_set):\n",
    "    data_set = encoding_data(data_set)\n",
    "    cols = ['PERFORM_CNS.SCORE','PRI.CURRENT.BALANCE']\n",
    "    data_set = srd_scaler(data_set,cols)\n",
    "    return data_set\n"
   ]
  },
  {
   "cell_type": "code",
   "execution_count": 19,
   "metadata": {},
   "outputs": [
    {
     "name": "stdout",
     "output_type": "stream",
     "text": [
      "<class 'pandas.core.frame.DataFrame'>\n",
      "RangeIndex: 365086 entries, 0 to 365085\n",
      "Data columns (total 48 columns):\n",
      " #   Column                                                     Non-Null Count   Dtype  \n",
      "---  ------                                                     --------------   -----  \n",
      " 0   UniqueID                                                   365086 non-null  int64  \n",
      " 1   ltv                                                        365086 non-null  float64\n",
      " 2   branch_id                                                  365086 non-null  int64  \n",
      " 3   supplier_id                                                365086 non-null  int64  \n",
      " 4   manufacturer_id                                            365086 non-null  int64  \n",
      " 5   Current_pincode_ID                                         365086 non-null  int64  \n",
      " 6   State_ID                                                   365086 non-null  int64  \n",
      " 7   Employee_code_ID                                           365086 non-null  int64  \n",
      " 8   MobileNo_Avl_Flag                                          365086 non-null  int64  \n",
      " 9   Aadhar_flag                                                365086 non-null  int64  \n",
      " 10  PAN_flag                                                   365086 non-null  int64  \n",
      " 11  VoterID_flag                                               365086 non-null  int64  \n",
      " 12  Driving_flag                                               365086 non-null  int64  \n",
      " 13  Passport_flag                                              365086 non-null  int64  \n",
      " 14  PERFORM_CNS.SCORE                                          365086 non-null  float64\n",
      " 15  PRI.NO.OF.ACCTS                                            365086 non-null  int64  \n",
      " 16  PRI.ACTIVE.ACCTS                                           365086 non-null  int64  \n",
      " 17  PRI.OVERDUE.ACCTS                                          365086 non-null  int64  \n",
      " 18  PRI.CURRENT.BALANCE                                        365086 non-null  float64\n",
      " 19  SEC.NO.OF.ACCTS                                            365086 non-null  int64  \n",
      " 20  SEC.ACTIVE.ACCTS                                           365086 non-null  int64  \n",
      " 21  SEC.OVERDUE.ACCTS                                          365086 non-null  int64  \n",
      " 22  SEC.CURRENT.BALANCE                                        365086 non-null  int64  \n",
      " 23  NEW.ACCTS.IN.LAST.SIX.MONTHS                               365086 non-null  int64  \n",
      " 24  DELINQUENT.ACCTS.IN.LAST.SIX.MONTHS                        365086 non-null  int64  \n",
      " 25  AVERAGE.ACCT.AGE                                           365086 non-null  int32  \n",
      " 26  CREDIT.HISTORY.LENGTH                                      365086 non-null  int32  \n",
      " 27  NO.OF_INQUIRIES                                            365086 non-null  int64  \n",
      " 28  Age                                                        365086 non-null  float64\n",
      " 29  loan_default                                               365086 non-null  int64  \n",
      " 30  Employment.Type_Salaried                                   365086 non-null  uint8  \n",
      " 31  Employment.Type_Self employed                              365086 non-null  uint8  \n",
      " 32  Employment.Type_Unemployed                                 365086 non-null  uint8  \n",
      " 33  PERFORM_CNS.SCORE.DESCRIPTION_A-Very Low Risk              365086 non-null  uint8  \n",
      " 34  PERFORM_CNS.SCORE.DESCRIPTION_B-Very Low Risk              365086 non-null  uint8  \n",
      " 35  PERFORM_CNS.SCORE.DESCRIPTION_C-Very Low Risk              365086 non-null  uint8  \n",
      " 36  PERFORM_CNS.SCORE.DESCRIPTION_D-Very Low Risk              365086 non-null  uint8  \n",
      " 37  PERFORM_CNS.SCORE.DESCRIPTION_E-Low Risk                   365086 non-null  uint8  \n",
      " 38  PERFORM_CNS.SCORE.DESCRIPTION_F-Low Risk                   365086 non-null  uint8  \n",
      " 39  PERFORM_CNS.SCORE.DESCRIPTION_G-Low Risk                   365086 non-null  uint8  \n",
      " 40  PERFORM_CNS.SCORE.DESCRIPTION_H-Medium Risk                365086 non-null  uint8  \n",
      " 41  PERFORM_CNS.SCORE.DESCRIPTION_I-Medium Risk                365086 non-null  uint8  \n",
      " 42  PERFORM_CNS.SCORE.DESCRIPTION_J-High Risk                  365086 non-null  uint8  \n",
      " 43  PERFORM_CNS.SCORE.DESCRIPTION_K-High Risk                  365086 non-null  uint8  \n",
      " 44  PERFORM_CNS.SCORE.DESCRIPTION_L-Very High Risk             365086 non-null  uint8  \n",
      " 45  PERFORM_CNS.SCORE.DESCRIPTION_M-Very High Risk             365086 non-null  uint8  \n",
      " 46  PERFORM_CNS.SCORE.DESCRIPTION_No Bureau History Available  365086 non-null  uint8  \n",
      " 47  PERFORM_CNS.SCORE.DESCRIPTION_Not Scored                   365086 non-null  uint8  \n",
      "dtypes: float64(4), int32(2), int64(24), uint8(18)\n",
      "memory usage: 87.0 MB\n"
     ]
    }
   ],
   "source": [
    "updated_td = enc_scal(updated_td)\n",
    "updated_td.info()"
   ]
  },
  {
   "cell_type": "code",
   "execution_count": 20,
   "metadata": {},
   "outputs": [],
   "source": [
    "\"\"\"\n",
    "*****************************************************************************\n",
    "Test Train data split\n",
    "*****************************************************************************\n",
    "\"\"\"\n",
    "X =updated_td.drop('loan_default',axis=1)\n",
    "y = updated_td['loan_default']  \n",
    "\n",
    "X_train, X_test, y_train, y_test = train_test_split(X,y, test_size=0.3, random_state=0)"
   ]
  },
  {
   "cell_type": "code",
   "execution_count": 21,
   "metadata": {},
   "outputs": [
    {
     "data": {
      "text/plain": [
       "LogisticRegression()"
      ]
     },
     "execution_count": 21,
     "metadata": {},
     "output_type": "execute_result"
    }
   ],
   "source": [
    "\"\"\"\n",
    "*****************************************************************************\n",
    "Logistic regression model\n",
    "*****************************************************************************\n",
    "\"\"\"\n",
    "logisticRegr = LogisticRegression(C=1.0, class_weight=None,fit_intercept=True,max_iter=100)\n",
    "logisticRegr.fit(X_train, y_train)"
   ]
  },
  {
   "cell_type": "markdown",
   "metadata": {},
   "source": [
    "## Performance metrics for the model\n",
    "    True Positive - Predicted and default loan payment.\n",
    "    False Positive - Predicted but no default.\n",
    "    True Negative - Not predicted and also no default.\n",
    "    False Negative - Not predicted but default loan payment.\n",
    "\n",
    "* Our objective is to predict the customers who will default Loan payment.\n",
    "* In this case we should minimize the False Negative as it will directly influence our success rate.\n",
    "$$\\begin{equation*}\n",
    "Recall = {True Positive /(True Positive + False Negative)}\n",
    "\\end{equation*}$$"
   ]
  },
  {
   "cell_type": "code",
   "execution_count": 22,
   "metadata": {},
   "outputs": [
    {
     "name": "stdout",
     "output_type": "stream",
     "text": [
      "Score  =  92.05394152986506 %\n"
     ]
    }
   ],
   "source": [
    "\"\"\"\n",
    "*****************************************************************************\n",
    "Random forest classifier and its accuracy\n",
    "*****************************************************************************\n",
    "\"\"\"\n",
    "from sklearn.ensemble import RandomForestClassifier\n",
    "\n",
    "rf = RandomForestClassifier(n_estimators=300, oob_score=True, random_state=0)\n",
    "rf.fit(X_train,y_train)\n",
    "rf_predict = rf.predict(X_test)\n",
    "error = (1 - rf.score(X_test, y_test))*100\n",
    "print('Score  = ',rf.score(X_test, y_test)*100, '%')"
   ]
  },
  {
   "cell_type": "code",
   "execution_count": 23,
   "metadata": {},
   "outputs": [
    {
     "name": "stdout",
     "output_type": "stream",
     "text": [
      "             Actual 1  Actual 0\n",
      "Predicted 1     51145      5245\n",
      "Predicted 0      3458     49678\n",
      "Accuracy: 0.9205394152986506\n",
      "Precision: 0.906987054442277\n",
      "Recall: 0.9366701463289563\n"
     ]
    }
   ],
   "source": [
    "from sklearn.metrics import confusion_matrix, accuracy_score, precision_score\n",
    "cm = confusion_matrix(rf_predict, y_test,  labels = [1, 0])\n",
    "cm_logistic = pd.DataFrame(cm, columns = [\"Actual 1\", \"Actual 0\"], index = [\"Predicted 1\", \"Predicted 0\"])\n",
    "print(cm_logistic)\n",
    "print(\"Accuracy:\",metrics.accuracy_score(y_test, rf_predict))\n",
    "print(\"Precision:\",metrics.precision_score(y_test, rf_predict))\n",
    "print(\"Recall:\",metrics.recall_score(y_test, rf_predict))"
   ]
  },
  {
   "cell_type": "code",
   "execution_count": 24,
   "metadata": {},
   "outputs": [
    {
     "name": "stderr",
     "output_type": "stream",
     "text": [
      "C:\\Users\\HP\\anaconda3\\lib\\site-packages\\ipykernel_launcher.py:26: SettingWithCopyWarning: \n",
      "A value is trying to be set on a copy of a slice from a DataFrame\n",
      "\n",
      "See the caveats in the documentation: https://pandas.pydata.org/pandas-docs/stable/user_guide/indexing.html#returning-a-view-versus-a-copy\n"
     ]
    }
   ],
   "source": [
    "updated_test = preprocess(test_data)\n",
    "updated_test = enc_scal(updated_test)\n",
    "rf_test_data = updated_test"
   ]
  },
  {
   "cell_type": "code",
   "execution_count": 25,
   "metadata": {},
   "outputs": [],
   "source": [
    "\"\"\"\n",
    "*****************************************************************************\n",
    "Loan Prediction for Test Data with Random forest classifier\n",
    "*****************************************************************************\n",
    "\"\"\"\n",
    "#rf_test_data =rf_test_data.drop('loan_default',axis=1)\n",
    "\n",
    "\n",
    "rf_test_data['loan_default'] = rf.predict(rf_test_data)\n",
    "rf_test_data.to_csv('result_rf.csv',mode = 'w', index=False)\n"
   ]
  },
  {
   "cell_type": "markdown",
   "metadata": {},
   "source": [
    "### Result\n",
    "    Loan defaulter value for the given test data is predicted and updated and exported aa a excel sheet"
   ]
  }
 ],
 "metadata": {
  "kernelspec": {
   "display_name": "Python 3",
   "language": "python",
   "name": "python3"
  },
  "language_info": {
   "codemirror_mode": {
    "name": "ipython",
    "version": 3
   },
   "file_extension": ".py",
   "mimetype": "text/x-python",
   "name": "python",
   "nbconvert_exporter": "python",
   "pygments_lexer": "ipython3",
   "version": "3.7.6"
  }
 },
 "nbformat": 4,
 "nbformat_minor": 4
}
